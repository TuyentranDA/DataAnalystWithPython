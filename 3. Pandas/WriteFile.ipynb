{
 "cells": [
  {
   "cell_type": "code",
   "execution_count": null,
   "id": "73db5f54",
   "metadata": {},
   "outputs": [],
   "source": [
    "# Đọc dữ liệu vào DataFrame\n",
    "import pandas as pd\n",
    "df=pd.read_csv(filepath_or_buffer = 'FoodPrice_in_Turkey.csv', sep = ',')\n",
    "df.head()"
   ]
  },
  {
   "cell_type": "code",
   "execution_count": null,
   "id": "ac9d9581",
   "metadata": {},
   "outputs": [],
   "source": [
    "df.to_csv('demo_FoodPrice.csv')"
   ]
  },
  {
   "cell_type": "code",
   "execution_count": null,
   "id": "85230866",
   "metadata": {},
   "outputs": [],
   "source": [
    "df.to_excel('demo_FoodPrice.xlsx')"
   ]
  },
  {
   "cell_type": "code",
   "execution_count": null,
   "id": "2ae1d3cb",
   "metadata": {},
   "outputs": [],
   "source": [
    "df.to_json('demo_FoodPrice.json',orient='columns')"
   ]
  },
  {
   "cell_type": "code",
   "execution_count": null,
   "id": "9b4c0d5b",
   "metadata": {},
   "outputs": [],
   "source": [
    "df.to_html('demo_FoodPrice.html')"
   ]
  }
 ],
 "metadata": {
  "kernelspec": {
   "display_name": "Python 3 (ipykernel)",
   "language": "python",
   "name": "python3"
  },
  "language_info": {
   "codemirror_mode": {
    "name": "ipython",
    "version": 3
   },
   "file_extension": ".py",
   "mimetype": "text/x-python",
   "name": "python",
   "nbconvert_exporter": "python",
   "pygments_lexer": "ipython3",
   "version": "3.10.2"
  }
 },
 "nbformat": 4,
 "nbformat_minor": 5
}
