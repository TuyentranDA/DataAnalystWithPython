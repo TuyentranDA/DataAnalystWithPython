{
 "cells": [
  {
   "cell_type": "code",
   "execution_count": null,
   "id": "aaf42d3d",
   "metadata": {},
   "outputs": [],
   "source": [
    "import pandas as pd\n",
    "df=pd.read_csv('FoodPrice_in_Turkey.csv')\n",
    "df.head()"
   ]
  },
  {
   "cell_type": "code",
   "execution_count": null,
   "id": "8d3addd8",
   "metadata": {},
   "outputs": [],
   "source": [
    "# Truy cập dòng có chỉ số 3 của dữ liệu\n",
    "tg = df.iloc[3]\n",
    "tg"
   ]
  },
  {
   "cell_type": "code",
   "execution_count": null,
   "id": "89a02098",
   "metadata": {},
   "outputs": [],
   "source": [
    "# Truy cập các dòng có chỉ số liên tục từ 3 tới 8 của dữ liệu\n",
    "tg = df.iloc[3:8]\n",
    "tg"
   ]
  },
  {
   "cell_type": "code",
   "execution_count": null,
   "id": "b6f3f4e5",
   "metadata": {},
   "outputs": [],
   "source": [
    "# Truy cập các dòng rời rạc của dữ liệu\n",
    "tg = df.iloc[[3,5,7]]\n",
    "tg"
   ]
  },
  {
   "cell_type": "code",
   "execution_count": null,
   "id": "0850a19c",
   "metadata": {},
   "outputs": [],
   "source": [
    "# Truy cập cột thứ 4 của dữ liệu\n",
    "# : được sử dụng để đại diện cho tất cả các dòng.\n",
    "tg = df.iloc[:,4]\n",
    "tg"
   ]
  },
  {
   "cell_type": "code",
   "execution_count": null,
   "id": "0dbeae76",
   "metadata": {},
   "outputs": [],
   "source": [
    "# Truy cập các cột liên tục từ cột 3 tới cột 8 của dữ liệu\n",
    "tg = df.iloc[:,3:8]\n",
    "tg"
   ]
  },
  {
   "cell_type": "code",
   "execution_count": null,
   "id": "a502b92d",
   "metadata": {},
   "outputs": [],
   "source": [
    "# Truy cập tới phần tử tại dòng 3 cột 7 của dữ liệu\n",
    "tg = df.iloc[3,7]\n",
    "tg"
   ]
  },
  {
   "cell_type": "code",
   "execution_count": null,
   "id": "64799436",
   "metadata": {},
   "outputs": [],
   "source": [
    "# Truy cập tới các phần tử từ dòng 3 đến dòng 4, cột 5 đến cột 6 của dữ liệu\n",
    "tg = df.iloc[3:5,5:7]\n",
    "tg"
   ]
  },
  {
   "cell_type": "code",
   "execution_count": null,
   "id": "098105ec",
   "metadata": {},
   "outputs": [],
   "source": [
    "# Truy cập dòng có chỉ số 3 của dữ liệu\n",
    "tg = df.loc[3]\n",
    "tg"
   ]
  },
  {
   "cell_type": "code",
   "execution_count": null,
   "id": "1a1d2830",
   "metadata": {},
   "outputs": [],
   "source": [
    "# Truy cập cột thứ 4 của dữ liệu\n",
    "tg = df.loc[:,'UmName']\n",
    "tg"
   ]
  },
  {
   "cell_type": "code",
   "execution_count": null,
   "id": "195abcbe",
   "metadata": {},
   "outputs": [],
   "source": [
    "# Truy cập cột thứ 4,5 của dữ liệu\n",
    "tg = df.loc[:,['UmName','Month']]\n",
    "tg"
   ]
  },
  {
   "cell_type": "code",
   "execution_count": null,
   "id": "0f16d99d",
   "metadata": {},
   "outputs": [],
   "source": [
    "# Truy cập tới phần tử tại dòng 3 cột 7 của dữ liệu\n",
    "tg = df.loc[3,'Price']\n",
    "tg"
   ]
  },
  {
   "cell_type": "code",
   "execution_count": null,
   "id": "ef3d9fd7",
   "metadata": {},
   "outputs": [],
   "source": [
    "# Truy cập tới phần tử có Year >=2019\n",
    "tg = df.loc[df.Year >= 2019]\n",
    "tg"
   ]
  },
  {
   "cell_type": "code",
   "execution_count": null,
   "id": "0c0b8a67",
   "metadata": {},
   "outputs": [],
   "source": [
    "# Thay số 5 bằng số 10 trong toàn bộ dữ liệu\n",
    "df.replace(5,10,inplace = True)\n",
    "df.head()"
   ]
  },
  {
   "cell_type": "code",
   "execution_count": null,
   "id": "5f2d10d7",
   "metadata": {},
   "outputs": [],
   "source": [
    "# Thay mã sản phẩm từ giá trị 52 thành RR trong toàn bộ dữ liệu\n",
    "# RR là chuỗi ký tự nên được để trong cặp dấu nháy đơn\n",
    "df.replace(52,'RR',inplace = True)\n",
    "df.head()"
   ]
  },
  {
   "cell_type": "code",
   "execution_count": null,
   "id": "f3972872",
   "metadata": {},
   "outputs": [],
   "source": [
    "# Thay giá trị 10 trong cột Month thành giá trị 5\n",
    "df['Month'].replace(10,5,inplace = True)\n",
    "df.head()"
   ]
  },
  {
   "cell_type": "code",
   "execution_count": null,
   "id": "fdcea2c4",
   "metadata": {},
   "outputs": [],
   "source": []
  }
 ],
 "metadata": {
  "kernelspec": {
   "display_name": "Python 3 (ipykernel)",
   "language": "python",
   "name": "python3"
  },
  "language_info": {
   "codemirror_mode": {
    "name": "ipython",
    "version": 3
   },
   "file_extension": ".py",
   "mimetype": "text/x-python",
   "name": "python",
   "nbconvert_exporter": "python",
   "pygments_lexer": "ipython3",
   "version": "3.10.2"
  }
 },
 "nbformat": 4,
 "nbformat_minor": 5
}
