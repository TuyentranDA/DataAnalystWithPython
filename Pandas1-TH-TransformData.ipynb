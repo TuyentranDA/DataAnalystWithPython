{
 "cells": [
  {
   "cell_type": "code",
   "execution_count": null,
   "id": "73474321",
   "metadata": {},
   "outputs": [],
   "source": [
    "import pandas as pd\n",
    "df=pd.read_csv('FoodPrice_in_Turkey.csv')\n",
    "df.head()"
   ]
  },
  {
   "cell_type": "code",
   "execution_count": null,
   "id": "52c80cee",
   "metadata": {},
   "outputs": [],
   "source": [
    "df.rename(columns={'Place':'Địa điểm','ProductName':'Tên SP'},inplace=True)\n",
    "df.head()"
   ]
  },
  {
   "cell_type": "code",
   "execution_count": null,
   "id": "4b711e17",
   "metadata": {},
   "outputs": [],
   "source": [
    "# Thêm một cột mới với tất cả các giá trị rỗng NaN\n",
    "df['new_column'] = 'NaN'\n",
    "df.head()"
   ]
  },
  {
   "cell_type": "code",
   "execution_count": null,
   "id": "69413f67",
   "metadata": {},
   "outputs": [],
   "source": [
    "# Thêm cột giảm giá 10% cho tất cả các bản ghi\n",
    "# Cách 1: Gán tên cột dưới dạng một chuỗi và thêm giá trị cho cột đó\n",
    "\n",
    "df['Giảm giá']= pd.Series('10%', index=df.index)\n",
    "df.head()"
   ]
  },
  {
   "cell_type": "code",
   "execution_count": null,
   "id": "ec1ba473",
   "metadata": {},
   "outputs": [],
   "source": [
    "# Thêm cột giảm giá 12% cho tất cả các bản ghi\n",
    "# Cách 2: Sử dụng phương thức insert() gồm 3 đối số\n",
    "# - đối số đầu tiên là chỉ mục (vị trí) muốn chèn cột mới (chỉ mục là 10--> cột mới được thêm vào vị trí 11 của DataFrame)\n",
    "# - đối số thứ hai là tên của cột mới muốn chèn \n",
    "# - đối số thứ ba giá trị của cột\n",
    "\n",
    "df.insert(10,'Giảm giá 2',pd.Series('12%', index=df.index))\n",
    "df.head()"
   ]
  },
  {
   "cell_type": "code",
   "execution_count": null,
   "id": "224180c3",
   "metadata": {},
   "outputs": [],
   "source": [
    "# Sử dụng phương thức append() thêm một dòng vào cuối DataFrame\n",
    "\n",
    "df=df.append({'Địa điểm':'NA','ProductId':'RR','Tên SP':'Rice','UmId':10,'UmName':'KG','Month':6,'Year':2021,'Price':84.3785,'Giảm giá':'10%','Giảm giá 2':'12%'},ignore_index=True)\n",
    "df.tail()  # Hiển thị 5 bản ghi cuối"
   ]
  },
  {
   "cell_type": "code",
   "execution_count": null,
   "id": "092fc1b5",
   "metadata": {},
   "outputs": [],
   "source": [
    "# Xóa một cột sử dụng hàm del\n",
    "del df['new_column']\n",
    "df.head()"
   ]
  },
  {
   "cell_type": "code",
   "execution_count": null,
   "id": "71bee455",
   "metadata": {},
   "outputs": [],
   "source": [
    "# Xóa một cột sử dụng phương thức pop()\n",
    "# Phương thức pop trả về cột đã xóa\n",
    "\n",
    "df.pop('Giảm giá 2')"
   ]
  },
  {
   "cell_type": "code",
   "execution_count": null,
   "id": "b6fb340d",
   "metadata": {},
   "outputs": [],
   "source": [
    "# Xóa một cột sử dụng phương thức drop() \n",
    "# Cú pháp: df.drop('column_name', axis=1, inplace=True)\n",
    "# Trong đó axis = 1 là xóa cột; inplace = True xóa trục tiếp trên dữ liệu gốc mà không phải tạo bản sao\n",
    "\n",
    "df.drop('Giảm giá', axis=1, inplace=True)\n",
    "df"
   ]
  },
  {
   "cell_type": "code",
   "execution_count": null,
   "id": "5663685b",
   "metadata": {},
   "outputs": [],
   "source": [
    "# Xóa nhiều cột sử dụng phương thức drop()\n",
    "df.drop(['Month','Year'], axis=1, inplace=True)\n",
    "df"
   ]
  },
  {
   "cell_type": "code",
   "execution_count": null,
   "id": "3b6ca8d6",
   "metadata": {},
   "outputs": [],
   "source": [
    "# Cú pháp: df.drop(Chỉ số dòng cần xóa, axis=0, inplace=True)\n",
    "# axis = 0 là giá trị mặc định có thể viết tường minh hoặc không\n",
    "# Xóa dòng có chỉ số 1 (dòng thứ 2) sử dụng phương thức drop()\n",
    "\n",
    "df.drop(1, axis = 0, inplace=True)\n",
    "df"
   ]
  },
  {
   "cell_type": "code",
   "execution_count": null,
   "id": "cc3c37eb",
   "metadata": {},
   "outputs": [],
   "source": [
    "# Xóa các dòng có chỉ số 7377 và 7379 sử dụng phương thức drop()\n",
    "df.drop([7377,7379], inplace=True)\n",
    "df"
   ]
  },
  {
   "cell_type": "code",
   "execution_count": null,
   "id": "89ac1499",
   "metadata": {},
   "outputs": [],
   "source": []
  }
 ],
 "metadata": {
  "kernelspec": {
   "display_name": "Python 3 (ipykernel)",
   "language": "python",
   "name": "python3"
  },
  "language_info": {
   "codemirror_mode": {
    "name": "ipython",
    "version": 3
   },
   "file_extension": ".py",
   "mimetype": "text/x-python",
   "name": "python",
   "nbconvert_exporter": "python",
   "pygments_lexer": "ipython3",
   "version": "3.10.2"
  }
 },
 "nbformat": 4,
 "nbformat_minor": 5
}
